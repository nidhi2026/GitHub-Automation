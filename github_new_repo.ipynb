{
 "cells": [
  {
   "cell_type": "markdown",
   "id": "a290658a",
   "metadata": {},
   "source": [
    "Selenium Imports"
   ]
  },
  {
   "cell_type": "code",
   "execution_count": 1,
   "id": "fe441ca8",
   "metadata": {},
   "outputs": [],
   "source": [
    "from selenium import webdriver\n",
    "from selenium.webdriver.chrome.service import Service\n",
    "from selenium.webdriver.support import expected_conditions as EC\n",
    "from selenium.webdriver.common.by import By\n",
    "from selenium.webdriver.support.wait import WebDriverWait"
   ]
  },
  {
   "cell_type": "markdown",
   "id": "5c81900c",
   "metadata": {},
   "source": [
    "BeautifulSoup Imports"
   ]
  },
  {
   "cell_type": "code",
   "execution_count": 2,
   "id": "2f5aedab",
   "metadata": {},
   "outputs": [],
   "source": [
    "from bs4 import BeautifulSoup as bs\n",
    "import requests"
   ]
  },
  {
   "cell_type": "markdown",
   "id": "bc0e4103",
   "metadata": {},
   "source": [
    "Other Imports"
   ]
  },
  {
   "cell_type": "code",
   "execution_count": 3,
   "id": "c689dc73",
   "metadata": {},
   "outputs": [],
   "source": [
    "import os\n",
    "import time\n",
    "import tkinter as tk\n",
    "from tkinter.filedialog import askdirectory"
   ]
  },
  {
   "cell_type": "code",
   "execution_count": 4,
   "id": "128a2d3b",
   "metadata": {},
   "outputs": [],
   "source": [
    "# username password repo_name description private/public folder_loc commit_msg\n",
    "data={}"
   ]
  },
  {
   "cell_type": "markdown",
   "id": "2b4cc9a9",
   "metadata": {},
   "source": [
    "### Tkinter mixed with Selenium to make a spicy combination"
   ]
  },
  {
   "cell_type": "code",
   "execution_count": 5,
   "id": "06d8fe2a",
   "metadata": {},
   "outputs": [],
   "source": [
    "root = tk.Tk()\n",
    "root.title('Assist')\n",
    "WIDTH,HEIGHT=700,500\n",
    "screen_width = root.winfo_screenwidth()  \n",
    "screen_height = root.winfo_screenheight() \n",
    "x = (screen_width/2) - (WIDTH/2)\n",
    "y = (screen_height/2) - (HEIGHT/2)\n",
    "root.geometry('%dx%d+%d+%d' % (WIDTH, HEIGHT, x, y))\n",
    "\n",
    "def get_data(event, ext, name, btn):\n",
    "    global data\n",
    "    btn.config(bg='#133467')\n",
    "    if(btn!=loc_btn): btn.config(text=\"OK\")\n",
    "    data[ext] = name\n",
    "\n",
    "def on_keys(event):\n",
    "    if username_input.focus_get() == username_input:\n",
    "        get_data(event, 'username', username_input.get(), user_btn)\n",
    "    elif password_input.focus_get() == password_input:\n",
    "        get_data(event, 'password', password_input.get(), pswd_btn)\n",
    "    elif repo_input.focus_get() == repo_input:\n",
    "        get_data(event, 'repo_name',repo_input.get(), repo_btn)\n",
    "    # elif description_input.focus_get() == description_input:\n",
    "    #     get_data(event, 'description',(description_input.get(\"1.0\", \"end-1c\")).replace('\\n',' '), desc_btn)\n",
    "\n",
    "def on_shift_enter(event):\n",
    "    get_data(event, 'description',(description_input.get(\"1.0\", \"end-1c\")).replace('\\n',' '), desc_btn)\n",
    "\n",
    "\n",
    "canvas = tk.Canvas(root, width=WIDTH, height=HEIGHT)\n",
    "canvas.pack()\n",
    "\n",
    "bg_color = \"#FAF3FA\"\n",
    "my_frame = tk.Frame(root)\n",
    "my_frame.config(bg=bg_color)\n",
    "my_frame.place(relheight=1,relwidth=1)\n",
    "\n",
    "# username (press enter to confirm)\n",
    "username_label = tk.Label(my_frame, text=\"Username:\", font=('Raleway',20), bg=bg_color)\n",
    "username_label.place(relwidth=0.30,relheight=0.1,rely=0.01)\n",
    "username_input = tk.Entry(my_frame,font=('Raleway',20))\n",
    "username_input.place(relwidth=0.6,relheight=0.1,relx=0.30,rely=0.01)\n",
    "user_btn = tk.Button(my_frame,command = lambda: get_data(None,'username', username_input.get(), user_btn),font=('Raleway',23),text=\"GO\", bg='#000000', fg='#ffffff')\n",
    "user_btn.place(relwidth=0.08,relheight=0.1,relx=0.91,rely=0.01)\n",
    "root.bind('<Return>', on_keys)\n",
    "user_btn.focus_set()\n",
    "\n",
    "#password (press enter to confirm)\n",
    "def hide_and_seek():\n",
    "    if password_input.cget('show') == '':\n",
    "        password_input.config(show='*')\n",
    "        eye_btn.config(text='Show',bg=\"#711400\")\n",
    "    else:\n",
    "        password_input.config(show='')\n",
    "        eye_btn.config(text='Hide',bg=\"#205A23\")\n",
    "\n",
    "password_label = tk.Label(my_frame, text=\"Password:\", font=('Raleway',20), bg=bg_color)\n",
    "password_label.place(relwidth=0.30,relheight=0.1,rely=0.11)\n",
    "password_input = tk.Entry(my_frame,font=('Raleway',20), show='*')\n",
    "password_input.place(relwidth=0.6,relheight=0.1,relx=0.30,rely=0.11)\n",
    "eye_btn = tk.Button(my_frame, text=\"Show\", command = lambda: hide_and_seek(),font=('Raleway',25), bg=\"#711400\",fg=\"#ffffff\",activebackground=\"#ffffff\",activeforeground=\"#711400\",border=1, borderwidth=5)\n",
    "eye_btn.place(relwidth=0.15,relheight=0.1,relx=0.75,rely=0.11)\n",
    "pswd_btn = tk.Button(my_frame,command = lambda: get_data(None, 'password',password_input.get(), pswd_btn),font=('Raleway',23),text=\"GO\", bg='#000000', fg='#ffffff')\n",
    "pswd_btn.place(relwidth=0.08,relheight=0.1,relx=0.91,rely=0.11)\n",
    "root.bind('<Return>', on_keys)\n",
    "pswd_btn.focus_set()\n",
    "\n",
    "# repository name (press enter to confirm)\n",
    "repo_label = tk.Label(my_frame, text=\"Repository:\", font=('Raleway',20), bg=bg_color)\n",
    "repo_label.place(relwidth=0.30,relheight=0.1,rely=0.21)\n",
    "repo_input = tk.Entry(my_frame,font=('Raleway',20))\n",
    "repo_input.place(relwidth=0.6,relheight=0.1,relx=0.30,rely=0.21)\n",
    "repo_btn = tk.Button(my_frame,command = lambda: get_data(None, 'repo_name',repo_input.get(), repo_btn),font=('Raleway',23),text=\"GO\", bg='#000000', fg='#ffffff')\n",
    "repo_btn.place(relwidth=0.08,relheight=0.1,relx=0.91,rely=0.21)\n",
    "root.bind('<Return>', on_keys)\n",
    "repo_btn.focus_set()\n",
    "\n",
    "# description (press shift-enter to confirm)\n",
    "description_label = tk.Label(my_frame, text=\"Description:\", font=('Raleway',20), bg=bg_color)\n",
    "description_label.place(relwidth=0.30,relheight=0.1,rely=0.31)\n",
    "description_input = tk.Text(my_frame,font=('Raleway',20))\n",
    "description_input.place(relwidth=0.6,relheight=0.4,relx=0.30,rely=0.31)\n",
    "desc_btn = tk.Button(my_frame,command = lambda: get_data(None, 'description',(description_input.get(\"1.0\", \"end-1c\")).replace('\\n',' '), desc_btn),font=('Raleway',23),text=\"GO\", bg='#000000', fg='#ffffff')\n",
    "desc_btn.place(relwidth=0.08,relheight=0.4,relx=0.91,rely=0.31)\n",
    "root.bind('<Shift-Return>', on_shift_enter)\n",
    "root.bind('<Shift-Return>', on_shift_enter)\n",
    "desc_btn.focus_set()\n",
    "\n",
    "# private or public\n",
    "privacy_label = tk.Label(my_frame, text=\"Privacy:\", font=('Raleway',20), bg=bg_color)\n",
    "privacy_label.place(relwidth=0.23,relheight=0.1,rely=0.71)\n",
    "var = tk.StringVar(value=\"none\")\n",
    "def selection():\n",
    "    result = var.get()\n",
    "    data['public']=False\n",
    "    data['private']=False\n",
    "    data[result] = True\n",
    "public = tk.Radiobutton(root, text=\"Public\", variable=var, value=\"public\", command=selection,font=(\"Raleway\", 20), bg=bg_color)\n",
    "public.place(rely=0.8,relx=0.01)\n",
    "private = tk.Radiobutton(root, text=\"Private\", variable=var, value=\"private\", command=selection,font=(\"Raleway\", 20), bg=bg_color)\n",
    "private.place(rely=0.8,relx=0.3)\n",
    "\n",
    "# folder location \n",
    "def get_location(loc_btn):\n",
    "    folder = askdirectory()\n",
    "    loc_btn.config(text='Loaded', bg='#900000')\n",
    "    if(folder): \n",
    "        return str(folder)\n",
    "    return False\n",
    "loc_label = tk.Label(my_frame, text=\"Location:\", font=('Raleway',20), bg=bg_color)\n",
    "loc_label.place(relwidth=0.23,relheight=0.1,rely=0.71,relx=0.6)\n",
    "loc_btn = tk.Button(my_frame,command = lambda: get_data(None, 'location',  get_location(loc_btn), loc_btn),font=('Raleway',25),text=\"Browse\", bg='#000000', fg='#ffffff')\n",
    "loc_btn.place(relwidth=0.25,relheight=0.07,relx=0.6,rely=0.81)\n",
    "\n",
    "root.mainloop()"
   ]
  },
  {
   "cell_type": "code",
   "execution_count": 6,
   "id": "883c5285",
   "metadata": {},
   "outputs": [],
   "source": [
    "chromdrive = Service(r\"F:/driveless/selenia/chromedriver.exe\")\n",
    "opt = webdriver.ChromeOptions()\n",
    "driver = webdriver.Chrome(service=chromdrive, options=opt)\n",
    "driver.maximize_window()\n",
    "driver.get('https://github.com/')"
   ]
  },
  {
   "cell_type": "code",
   "execution_count": 7,
   "id": "b0c70207",
   "metadata": {},
   "outputs": [],
   "source": [
    "# sign in\n",
    "sign_in = WebDriverWait(driver, 10).until(EC.element_to_be_clickable((By.XPATH, \"//a[@class='HeaderMenu-link HeaderMenu-link--sign-in flex-shrink-0 no-underline d-block d-lg-inline-block border border-lg-0 rounded rounded-lg-0 p-2 p-lg-0']\"))).click()"
   ]
  },
  {
   "cell_type": "markdown",
   "id": "8fd387fd",
   "metadata": {},
   "source": [
    "Sign In"
   ]
  },
  {
   "cell_type": "code",
   "execution_count": 8,
   "id": "b4a4d7e9",
   "metadata": {},
   "outputs": [],
   "source": [
    "# INPUT field\n",
    "input = WebDriverWait(driver, 10).until(EC.element_to_be_clickable((By.XPATH, \"//input[@name='login']\")))\n",
    "\n",
    "username = driver.find_element(By.XPATH, \"//input[@name='login']\")\n",
    "password = driver.find_element(By.XPATH, \"//input[@name='password']\")\n",
    "\n",
    "username.clear()\n",
    "username.send_keys(data['username'])\n",
    "\n",
    "password.clear()\n",
    "password.send_keys(data['password'])\n",
    "\n",
    "submit = driver.find_element(By.XPATH, \"//input[@type='submit']\").click()"
   ]
  },
  {
   "cell_type": "code",
   "execution_count": 9,
   "id": "af29a7cb",
   "metadata": {},
   "outputs": [],
   "source": [
    "# making new repo\n",
    "time.sleep(2)\n",
    "input = WebDriverWait(driver, 10).until(EC.element_to_be_clickable((By.XPATH, \"//a[@class='Button--primary Button--small Button']\")))\n",
    "new_repo = driver.find_element(By.XPATH, \"//a[@class='Button--primary Button--small Button']\").click()"
   ]
  },
  {
   "cell_type": "code",
   "execution_count": 10,
   "id": "ac1773cf",
   "metadata": {},
   "outputs": [],
   "source": [
    "repository = data['repo_name']\n",
    "description_repo = data['description']"
   ]
  },
  {
   "cell_type": "markdown",
   "id": "625b01f4",
   "metadata": {},
   "source": [
    "Making new repo"
   ]
  },
  {
   "cell_type": "code",
   "execution_count": 11,
   "id": "3a28d57a",
   "metadata": {},
   "outputs": [],
   "source": [
    "repo_name = driver.find_element(By.CSS_SELECTOR, 'input[aria-label=\"Repository\"]')\n",
    "repo_name.clear()\n",
    "repo_name.send_keys(repository)\n",
    "\n",
    "description = driver.find_element(By.CSS_SELECTOR, 'input[aria-label=\"Description\"]')\n",
    "description.clear()\n",
    "description.send_keys(description_repo)\n",
    "\n",
    "if(data['private']):\n",
    "    private = driver.find_element(By.CSS_SELECTOR, \"input[value='private']\")\n",
    "    private.click()\n",
    "\n",
    "driver.execute_script(\"window.scrollTo(0,1000);\")"
   ]
  },
  {
   "cell_type": "markdown",
   "id": "85c5964e",
   "metadata": {},
   "source": [
    "Extract page's data (loaded dynamically) and get attributes using bs"
   ]
  },
  {
   "cell_type": "code",
   "execution_count": 12,
   "id": "d939b224",
   "metadata": {},
   "outputs": [],
   "source": [
    "page_title = driver.execute_script(\"return document.title\")\n",
    "page_body = driver.execute_script(\"return document.body.innerHTML\")\n",
    "\n",
    "# Use BeautifulSoup to parse the page body\n",
    "from bs4 import BeautifulSoup\n",
    "soup = BeautifulSoup(page_body, 'html.parser')\n",
    "page = soup.find('button', attrs={'type':'submit', 'class':\"types__StyledButton-sc-ws60qy-0\"})\n",
    "class_attr = ' '.join(page['class'])"
   ]
  },
  {
   "cell_type": "code",
   "execution_count": 13,
   "id": "653037f2",
   "metadata": {},
   "outputs": [],
   "source": [
    "time.sleep(2)\n",
    "create = WebDriverWait(driver, 10).until(EC.element_to_be_clickable((By.XPATH, '//button[@class=\"{}\"]'.format(class_attr))))\n",
    "driver.execute_script(\"arguments[0].click();\", create)\n",
    "time.sleep(3)"
   ]
  },
  {
   "cell_type": "markdown",
   "id": "b1e72175",
   "metadata": {},
   "source": [
    "Flowing through Terminal commands"
   ]
  },
  {
   "cell_type": "code",
   "execution_count": 14,
   "id": "3f5eb0bd",
   "metadata": {},
   "outputs": [
    {
     "data": {
      "text/plain": [
       "0"
      ]
     },
     "execution_count": 14,
     "metadata": {},
     "output_type": "execute_result"
    }
   ],
   "source": [
    "time.sleep(5)\n",
    "import os\n",
    "repo = data['username'] + '/' + repository + '.git'\n",
    "commit = 'add files'\n",
    "relative_directory = data['location']\n",
    "os.system(f'start /B start cmd.exe @cmd /k \"cd /d {relative_directory} & timeout 2 & git init & timeout 2 & git status & timeout 2 & git add . & timeout 2 & git commit -m \"{commit}\" & timeout 2 & git branch -M main & timeout 2 & git remote add origin https://github.com/{repo} & timeout 2 & git push -u origin main & timeout 1 & exit\"')"
   ]
  }
 ],
 "metadata": {
  "kernelspec": {
   "display_name": "Python 3 (ipykernel)",
   "language": "python",
   "name": "python3"
  },
  "language_info": {
   "codemirror_mode": {
    "name": "ipython",
    "version": 3
   },
   "file_extension": ".py",
   "mimetype": "text/x-python",
   "name": "python",
   "nbconvert_exporter": "python",
   "pygments_lexer": "ipython3",
   "version": "3.11.4"
  }
 },
 "nbformat": 4,
 "nbformat_minor": 5
}
